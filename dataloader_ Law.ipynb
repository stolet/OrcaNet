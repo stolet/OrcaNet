{
  "nbformat": 4,
  "nbformat_minor": 0,
  "metadata": {
    "colab": {
      "name": "dataloader_.ipynb",
      "provenance": [],
      "private_outputs": true,
      "toc_visible": true
    },
    "kernelspec": {
      "name": "python3",
      "display_name": "Python 3"
    },
    "accelerator": "GPU"
  },
  "cells": [
    {
      "cell_type": "code",
      "metadata": {
        "id": "GY2LJZod4_Iw",
        "colab_type": "code",
        "colab": {}
      },
      "source": [
        "from __future__ import print_function, division\n",
        "import os\n",
        "import torch\n",
        "import torch.nn as nn\n",
        "import torch.optim as optim\n",
        "import pandas as pd\n",
        "from skimage import io, transform\n",
        "import numpy as np\n",
        "import matplotlib.pyplot as plt\n",
        "from torch.utils.data import Dataset, DataLoader\n",
        "from torchvision import transforms, utils\n",
        "from PIL import Image\n",
        "import torchvision\n",
        "\n",
        "device = \"cuda\""
      ],
      "execution_count": 0,
      "outputs": []
    },
    {
      "cell_type": "code",
      "metadata": {
        "id": "xjynwwmih88J",
        "colab_type": "code",
        "colab": {}
      },
      "source": [
        "from google.colab import drive\n",
        "drive.mount('/content/drive')"
      ],
      "execution_count": 0,
      "outputs": []
    },
    {
      "cell_type": "code",
      "metadata": {
        "id": "QUikb8B05YCg",
        "colab_type": "code",
        "colab": {}
      },
      "source": [
        "data_path = 'content/drive/My Drive'\n",
        "load_path = 'sample_data'"
      ],
      "execution_count": 0,
      "outputs": []
    },
    {
      "cell_type": "code",
      "metadata": {
        "id": "Db4SmXyR54El",
        "colab_type": "code",
        "colab": {}
      },
      "source": [
        "!cp '/content/drive/My Drive/data.zip' /content\n",
        "!unzip data.zip"
      ],
      "execution_count": 0,
      "outputs": []
    },
    {
      "cell_type": "code",
      "metadata": {
        "id": "k2kUV3-9lxQK",
        "colab_type": "code",
        "colab": {}
      },
      "source": [
        "def dict_to_device(dictionary, device):\n",
        "    for k,v in dictionary.items():\n",
        "        dictionary[k] = v.to(device)\n",
        "    return dictionary"
      ],
      "execution_count": 0,
      "outputs": []
    },
    {
      "cell_type": "code",
      "metadata": {
        "id": "mtqziTaxJQZz",
        "colab_type": "code",
        "colab": {}
      },
      "source": [
        "class Killer_Whale_Dataset(Dataset):\n",
        "    # this is a class for the Killer whale dataset\n",
        "    \n",
        "    #first of all override the __init__() method.\n",
        "    def __init__(self, data_folder,transform = None):\n",
        "    \t# super() method is to use the method in its parent class\n",
        "        super().__init__()\n",
        "        self.folder_list = os.listdir(data_folder)\n",
        "        self.img_path = os.path.join(data_folder,'img/')\n",
        "        self.mask_path = os.path.join(data_folder,'mask/')\n",
        "        self.img_list = sorted(os.listdir(self.img_path))\n",
        "        self.mask_list = sorted(os.listdir(self.mask_path))\n",
        "        self.transform = transform\n",
        "\n",
        "    def __getitem__(self,idx):\n",
        "        self.img = Image.open(self.img_path+self.img_list[idx])\n",
        "        self.mask = Image.open(self.mask_path+self.mask_list[idx])\n",
        "        if self.transform:\n",
        "            self.img = self.transform(self.img)\n",
        "            self.img = nn.AdaptiveAvgPool2d((224,224))(self.img)\n",
        "            self.mask = self.transform(self.mask)\n",
        "            self.mask = nn.AdaptiveAvgPool2d((224,224))(self.mask)\n",
        "        \n",
        "\n",
        "        sample = {'img':self.img,'mask':self.mask}\n",
        "\n",
        "        \n",
        "            \n",
        "        \n",
        "        return sample\n",
        "    def __len__(self):\n",
        "    \treturn len(self.img_list)"
      ],
      "execution_count": 0,
      "outputs": []
    },
    {
      "cell_type": "code",
      "metadata": {
        "id": "-WqHnDiRJsaD",
        "colab_type": "code",
        "colab": {}
      },
      "source": [
        "def Tensor2Image(t):\n",
        "    trans = transforms.ToPILImage()\n",
        "    img = trans(t.squeeze())\n",
        "    return img\n",
        "\n",
        "\n",
        "\n",
        "class AE(nn.Module):\n",
        "    def __init__(self):\n",
        "        super(AE, self).__init__()\n",
        "        \n",
        "        \n",
        "        self.conv2a = nn.Conv2d(in_channels=3, out_channels=6,kernel_size=3,stride = 1)\n",
        "        self.convtrans2a = nn.ConvTranspose2d(in_channels=6, out_channels=3,kernel_size=3,stride = 1)\n",
        "        ## Here, we should define some smart layers\n",
        "    def encode(self, dictionary):\n",
        "        ## Use Deep NN to encode the image\n",
        "        x = dictionary['img']\n",
        "       \n",
        "        h1 = nn.ReLU()(self.conv2a(x))\n",
        "        return h1\n",
        "    \n",
        "    def decode(self, z):\n",
        "\n",
        "\n",
        "        ## use the NN to decode to mask\n",
        "        # batch_size = z.shape[0]\n",
        "        h2 = nn.ReLU()(self.convtrans2a(z))\n",
        "        \n",
        "        \n",
        "        \n",
        "        return {'img': h2}\n",
        "\n",
        "    def forward(self, dictionary):\n",
        "        z = self.encode(dictionary)        \n",
        "        poly_dict = self.decode(z)\n",
        "        return poly_dict"
      ],
      "execution_count": 0,
      "outputs": []
    },
    {
      "cell_type": "code",
      "metadata": {
        "id": "Rx_ukno5iV5O",
        "colab_type": "code",
        "colab": {}
      },
      "source": [
        "transform = transforms.Compose([transforms.ToTensor(),\n",
        "                                    transforms.Normalize(mean=[0.5, 0.5, 0.5],\n",
        "                                                            std=[0.2, 0.2, 0.2])])   \n",
        "\n",
        "whale_path = './data'\n",
        "\n",
        "\n",
        "whale_data = Killer_Whale_Dataset(whale_path,transform = transform)\n",
        "train_loader = torch.utils.data.DataLoader(whale_data,batch_size = 2,shuffle = True,drop_last = False)\n",
        "\n",
        "\n",
        "\n",
        "net_test = AE().cuda()\n",
        "\n",
        "## Need to figure out what loss and optimizer to use\n",
        "loss_fn = torch.nn.MSELoss()\n",
        "optimizer = optim.Adam(net_test.parameters(), lr=0.001)"
      ],
      "execution_count": 0,
      "outputs": []
    },
    {
      "cell_type": "code",
      "metadata": {
        "id": "G7PQdOkki6VJ",
        "colab_type": "code",
        "colab": {}
      },
      "source": [
        "from IPython import display\n",
        "losses = []\n",
        "\n",
        "fig=plt.figure(figsize=(20, 5), dpi= 80, facecolor='w', edgecolor='k')\n",
        "axes=fig.subplots(1,4)\n",
        "\n",
        "for epoch in range(50):\n",
        "    iterator = iter(train_loader)\n",
        "    for i in range(len(train_loader)):\n",
        "        batch = next(iterator)\n",
        "        dict_to_device(batch, device)\n",
        "        preds = net_test(batch)\n",
        "        loss = loss_fn(preds['img'], batch['mask'])\n",
        "        optimizer.zero_grad()\n",
        "        loss.backward()\n",
        "        optimizer.step()\n",
        "        losses.append(loss.item())\n",
        "    for ax in axes:\n",
        "        ax.cla() \n",
        "\n",
        "        axes[0].imshow(Tensor2Image(preds['img'].cpu()))\n",
        "        axes[0].set_title('good to see?')\n",
        "        axes[1].imshow(Tensor2Image(batch['mask'].cpu()))\n",
        "        axes[1].set_title('ground truth')\n",
        "        axes[3].plot(losses)\n",
        "        axes[3].set_yscale('log')\n",
        "        axes[3].set_xlabel(\"distance\")\n",
        "        axes[3].set_title('Training loss') \n",
        "        display.clear_output(wait=True)\n",
        "        display.display(plt.gcf())\n",
        "        #print(\"Plot after epoch {} (iteration {})\".format(epoch, len(losses))) \n",
        "\n",
        "display.display(plt.gcf())"
      ],
      "execution_count": 0,
      "outputs": []
    },
    {
      "cell_type": "code",
      "metadata": {
        "id": "7yCnHgqMj4Bw",
        "colab_type": "code",
        "colab": {}
      },
      "source": [
        ""
      ],
      "execution_count": 0,
      "outputs": []
    }
  ]
}